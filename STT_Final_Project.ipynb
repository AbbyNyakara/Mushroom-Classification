{
  "nbformat": 4,
  "nbformat_minor": 0,
  "metadata": {
    "colab": {
      "provenance": [],
      "gpuType": "T4",
      "authorship_tag": "ABX9TyPW8fFkcYz/tALVIiR6YhHg",
      "include_colab_link": true
    },
    "kernelspec": {
      "name": "python3",
      "display_name": "Python 3"
    },
    "language_info": {
      "name": "python"
    },
    "accelerator": "GPU"
  },
  "cells": [
    {
      "cell_type": "markdown",
      "metadata": {
        "id": "view-in-github",
        "colab_type": "text"
      },
      "source": [
        "<a href=\"https://colab.research.google.com/github/AbbyNyakara/Mushroom-Classification/blob/main/STT_Final_Project.ipynb\" target=\"_parent\"><img src=\"https://colab.research.google.com/assets/colab-badge.svg\" alt=\"Open In Colab\"/></a>"
      ]
    },
    {
      "cell_type": "markdown",
      "source": [
        "## DEPENDACIES"
      ],
      "metadata": {
        "id": "rayMhAvKEy6B"
      }
    },
    {
      "cell_type": "code",
      "source": [
        "# Import libraries:\n",
        "\n",
        "import tensorflow as tf\n",
        "from tensorflow.keras import layers\n",
        "from tensorflow.keras.models import Sequential\n",
        "import os\n",
        "import cv2"
      ],
      "metadata": {
        "id": "b3SZwHdVE6vo"
      },
      "execution_count": 11,
      "outputs": []
    },
    {
      "cell_type": "code",
      "source": [
        "# No gpu connected?? yikes\n",
        "gpus = tf.config.experimental.list_physical_devices('GPU')\n",
        "print(gpus)"
      ],
      "metadata": {
        "colab": {
          "base_uri": "https://localhost:8080/"
        },
        "id": "96mzNRLRHSVS",
        "outputId": "573a52fa-a957-4bca-cdce-3f169dbe23d6"
      },
      "execution_count": 6,
      "outputs": [
        {
          "output_type": "stream",
          "name": "stdout",
          "text": [
            "[]\n"
          ]
        }
      ]
    },
    {
      "cell_type": "code",
      "source": [
        "# Setup GPU memory consumption growth: Avoid the OOM error:\n",
        "\n",
        "# gpus = tf.config.experimental.list_physical_devices('GPU')\n",
        "# for gpu in gpus:\n",
        "#   tf.config.experimental.set_memory_growth(gpu, True)\n"
      ],
      "metadata": {
        "id": "-MKOKjlDE6yO"
      },
      "execution_count": 7,
      "outputs": []
    },
    {
      "cell_type": "code",
      "source": [],
      "metadata": {
        "id": "peTfjyWBK2u1"
      },
      "execution_count": null,
      "outputs": []
    },
    {
      "cell_type": "markdown",
      "source": [
        "# Load the data"
      ],
      "metadata": {
        "id": "l3-hWToRK3AC"
      }
    },
    {
      "cell_type": "code",
      "source": [
        "from google.colab import drive\n",
        "drive.mount('/content/drive')"
      ],
      "metadata": {
        "colab": {
          "base_uri": "https://localhost:8080/"
        },
        "id": "SbpuXmpUIbWY",
        "outputId": "0a24d752-51e9-4982-8767-1df4e73abc23"
      },
      "execution_count": 9,
      "outputs": [
        {
          "output_type": "stream",
          "name": "stdout",
          "text": [
            "Mounted at /content/drive\n"
          ]
        }
      ]
    },
    {
      "cell_type": "code",
      "source": [
        "# Load data\n",
        "\n",
        "dataset = tf.keras.preprocessing.image_dataset_from_directory('/content/drive/MyDrive/Statistics/Project/Dataset')"
      ],
      "metadata": {
        "colab": {
          "base_uri": "https://localhost:8080/"
        },
        "id": "K1ADJU31Ibbi",
        "outputId": "43a2eea7-9a90-468a-bbc3-8c0b919d51b1"
      },
      "execution_count": 10,
      "outputs": [
        {
          "output_type": "stream",
          "name": "stdout",
          "text": [
            "Found 28759 files belonging to 2 classes.\n"
          ]
        }
      ]
    },
    {
      "cell_type": "markdown",
      "source": [
        "## Split the data:"
      ],
      "metadata": {
        "id": "zyp6sP9OMus4"
      }
    },
    {
      "cell_type": "code",
      "source": [
        "# Training set (80% of the data)\n",
        "train_ds = tf.keras.utils.image_dataset_from_directory(\n",
        "    '/content/drive/MyDrive/Statistics/Project/Dataset',\n",
        "    validation_split=0.2,\n",
        "    subset=\"training\",\n",
        "    seed=123\n",
        ")\n",
        "\n",
        "# Validation set(20% of the data)\n",
        "validation_ds = tf.keras.utils.image_dataset_from_directory(\n",
        "    '/content/drive/MyDrive/Statistics/Project/Dataset',\n",
        "    validation_split=0.2,\n",
        "    subset=\"validation\",\n",
        "    seed=123\n",
        ")\n"
      ],
      "metadata": {
        "colab": {
          "base_uri": "https://localhost:8080/"
        },
        "id": "mU3aIKpcIbea",
        "outputId": "0e590317-b49c-432f-e89c-27c30488633a"
      },
      "execution_count": 12,
      "outputs": [
        {
          "output_type": "stream",
          "name": "stdout",
          "text": [
            "Found 28759 files belonging to 2 classes.\n",
            "Using 23008 files for training.\n",
            "Found 28759 files belonging to 2 classes.\n",
            "Using 5751 files for validation.\n"
          ]
        }
      ]
    }
  ]
}